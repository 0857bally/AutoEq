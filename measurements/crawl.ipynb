{
 "cells": [
  {
   "cell_type": "code",
   "execution_count": null,
   "id": "91da902b-07de-4d1b-9f33-15b2a6aca9d4",
   "metadata": {},
   "outputs": [],
   "source": [
    "%load_ext autoreload\n",
    "%autoreload 2"
   ]
  },
  {
   "cell_type": "code",
   "execution_count": null,
   "id": "c57b79d9-a96a-4d12-9317-626ffdcf0130",
   "metadata": {},
   "outputs": [],
   "source": [
    "import sys\n",
    "from pathlib import Path\n",
    "ROOT_PATH = Path().resolve().parent\n",
    "if str(ROOT_PATH) not in sys.path:\n",
    "    sys.path.insert(1, str(ROOT_PATH))\n",
    "import ipywidgets as widgets\n",
    "from IPython.display import display\n",
    "from measurements.rtings.rtings_crawler import RtingsCrawler\n",
    "from measurements.crinacle.crinacle_crawler import CrinacleCrawler\n",
    "from measurements.referenceaudioanalyzer.reference_audio_analyzer_crawler import ReferenceAudioAnalyzerCrawler"
   ]
  },
  {
   "cell_type": "markdown",
   "id": "a39cd4d4-bff1-4fcc-83f8-d98ce780ef54",
   "metadata": {},
   "source": [
    "## Crinacle"
   ]
  },
  {
   "cell_type": "code",
   "execution_count": null,
   "id": "9eee0600-5948-413b-b025-81bf1cc25a17",
   "metadata": {},
   "outputs": [],
   "source": [
    "crawler = CrinacleCrawler()\n",
    "crawler.process_new()\n",
    "display(crawler.widget)"
   ]
  },
  {
   "cell_type": "markdown",
   "id": "6f99fd13-fb5d-44cc-a293-d09c33b6dc51",
   "metadata": {},
   "source": [
    "## Reference Audio Analyzer"
   ]
  },
  {
   "cell_type": "code",
   "execution_count": null,
   "id": "f3a56f57-44d5-45a2-9b46-237710251840",
   "metadata": {},
   "outputs": [],
   "source": [
    "crawler = ReferenceAudioAnalyzerCrawler()\n",
    "crawler.process_new()\n",
    "display(crawler.widget)"
   ]
  },
  {
   "cell_type": "code",
   "execution_count": null,
   "id": "b9aca66b-df1e-4970-a280-015e169f2f24",
   "metadata": {},
   "outputs": [],
   "source": []
  }
 ],
 "metadata": {
  "kernelspec": {
   "display_name": "autoeq",
   "language": "python",
   "name": "autoeq"
  },
  "language_info": {
   "codemirror_mode": {
    "name": "ipython",
    "version": 3
   },
   "file_extension": ".py",
   "mimetype": "text/x-python",
   "name": "python",
   "nbconvert_exporter": "python",
   "pygments_lexer": "ipython3",
   "version": "3.8.6"
  }
 },
 "nbformat": 4,
 "nbformat_minor": 5
}
