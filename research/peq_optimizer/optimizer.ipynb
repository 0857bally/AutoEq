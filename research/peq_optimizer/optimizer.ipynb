{
 "cells": [
  {
   "cell_type": "code",
   "execution_count": null,
   "metadata": {},
   "outputs": [],
   "source": [
    "%load_ext autoreload\n",
    "%autoreload 2"
   ]
  },
  {
   "cell_type": "code",
   "execution_count": null,
   "metadata": {},
   "outputs": [],
   "source": [
    "from pathlib import Path\n",
    "import sys\n",
    "from glob import glob\n",
    "import numpy as np\n",
    "import matplotlib.pyplot as plt\n",
    "ROOT_PATH = Path().resolve().parent.parent\n",
    "if str(ROOT_PATH) not in sys.path:\n",
    "    sys.path.insert(1, str(ROOT_PATH))\n",
    "DIR_PATH = Path().resolve()\n",
    "from frequency_response import FrequencyResponse\n",
    "from research.peq_optimizer.neural_peq import NeuralPEQ"
   ]
  },
  {
   "cell_type": "markdown",
   "metadata": {},
   "source": [
    "## Create Data"
   ]
  },
  {
   "cell_type": "code",
   "execution_count": null,
   "metadata": {},
   "outputs": [],
   "source": [
    "# Read equalization curves from results as data\n",
    "# TODO: Create data generator for unlimited data\n",
    "data_path =  DIR_PATH.joinpath('data.npy')\n",
    "if data_path.is_file():\n",
    "    # Saved previously to numpy file\n",
    "    data = np.load(data_path)\n",
    "else:\n",
    "    # Not saved, read frequency response CSVs\n",
    "    data = []\n",
    "    for fp in ROOT_PATH.joinpath('results').glob('**/*.csv'):\n",
    "        fr = FrequencyResponse.read_from_csv(fp)\n",
    "        fr.interpolate()\n",
    "        data.append(fr.equalization)\n",
    "    data = np.vstack(data)\n",
    "    np.save(data_path, data)\n",
    "\n",
    "# Split data into training and testing\n",
    "n_train = int(len(data) * 0.8)\n",
    "n_test = len(data) - n_train\n",
    "train = data[:n_train]\n",
    "test = data[n_train:]"
   ]
  },
  {
   "cell_type": "code",
   "execution_count": null,
   "metadata": {},
   "outputs": [],
   "source": [
    "import optuna\n",
    "\n",
    "def objective(trial):\n",
    "    #hidden_size = trial.suggest_int('hidden_size', 512, 2048, log=True)\n",
    "    #dropout = trial.suggest_float('dropout', 0.0, 0.9)\n",
    "    learning_rate = trial.suggest_float('learning_rate', 1e-4, 6e-4, log=True)\n",
    "    learning_rate_decay = trial.suggest_float('learning_rate_decay', 0.06, 0.09)\n",
    "    #gain_normalization = trial.suggest_float('gain_normalization', 1.0, 10.0)\n",
    "    warmup_epochs = trial.suggest_int('warmup_epochs', 3, 10)\n",
    "    peq = NeuralPEQ(\n",
    "        n_filters=10,\n",
    "        hidden_size=2000,\n",
    "        dropout=0.0,\n",
    "        learning_rate=learning_rate,\n",
    "        learning_rate_decay=learning_rate_decay,\n",
    "        log_f=True,\n",
    "        q_normalization=1.0,\n",
    "        gain_normalization=1.0,\n",
    "        warmup_epochs=warmup_epochs)\n",
    "    try:\n",
    "        history = peq.train(train)\n",
    "    except:\n",
    "        return 999.0\n",
    "    loss = np.array(history.history['val_loss'])\n",
    "    loss = loss[np.logical_not(np.isnan(loss))]\n",
    "    loss = np.min(loss)\n",
    "    return loss\n",
    "\n",
    "study = optuna.create_study()\n",
    "study.optimize(objective, n_trials=20)\n",
    "\n",
    "study.best_params  # E.g. {'x': 2.002108042}"
   ]
  },
  {
   "cell_type": "code",
   "execution_count": null,
   "metadata": {},
   "outputs": [],
   "source": [
    "peq = NeuralPEQ(\n",
    "    n_filters=10,\n",
    "    hidden_size=2000,\n",
    "    dropout=0.0,\n",
    "    learning_rate=4.24e-4,\n",
    "    learning_rate_decay=0.074,\n",
    "    log_f=True,\n",
    "    q_normalization=1.0,\n",
    "    gain_normalization=1.0,\n",
    "    warmup_epochs=8)\n",
    "history = peq.train(train)"
   ]
  },
  {
   "cell_type": "code",
   "execution_count": null,
   "metadata": {},
   "outputs": [],
   "source": [
    "for i in range(3,4):\n",
    "    filters = peq.infer(test[i:i+1])\n",
    "    fr = FrequencyResponse(name='test', raw=test[i], equalization=np.squeeze(peq.fr(filters)), target=test[i])\n",
    "    fr.error = fr.raw - fr.target\n",
    "    fig, ax = fr.plot_graph(show=False, raw=True, target=False, error=False)\n",
    "    for i, filt in enumerate(filters[0]):\n",
    "        ax.plot(fr.frequency, np.squeeze(peq.fr(np.expand_dims(np.expand_dims(filt, axis=0), axis=0))), label=f'{filt[0]:.2f} Hz, {filt[1]:.2f} Q, {filt[2]:.2f} dB')\n",
    "    ax.legend()\n",
    "    plt.show()"
   ]
  },
  {
   "cell_type": "code",
   "execution_count": null,
   "metadata": {
    "tags": []
   },
   "outputs": [],
   "source": [
    "p = np.array([\n",
    "    [ 2.8177048e+01, 4.6592656e-01, 3.6886775e+00],\n",
    "    [ 7.5532819e+02, 6.3449883e-01, 4.0352540e+00],\n",
    "    [ 2.1447576e+03, 4.8449698e-01, -7.1967192e+00],\n",
    "    [ 3.0843210e+03, 2.0635529e+00, 6.9372535e+00],\n",
    "    [ 6.6201890e+03, 8.5014981e-01, 6.9353619e+00],\n",
    "    [ 1.9410781e+04, 2.7364632e-01, -2.0113779e+01]], dtype='float32')\n",
    "p = np.expand_dims(p, axis=0)\n",
    "raw = peq.fr(p)\n",
    "fr = FrequencyResponse(name='peq', raw=test[0], target=np.squeeze(raw))\n",
    "fr.error = fr.raw - fr.target\n",
    "fr.plot_graph()\n",
    "plt.show()"
   ]
  },
  {
   "cell_type": "code",
   "execution_count": null,
   "metadata": {},
   "outputs": [],
   "source": [
    "d = ((p[:, :, 1] - 1.41) ** 2).T\n",
    "d = np.hstack([np.ones((p.shape[1], p.shape[2]-1)), d])"
   ]
  },
  {
   "cell_type": "code",
   "execution_count": null,
   "metadata": {},
   "outputs": [],
   "source": [
    "d"
   ]
  },
  {
   "cell_type": "code",
   "execution_count": null,
   "metadata": {},
   "outputs": [],
   "source": [
    "p"
   ]
  },
  {
   "cell_type": "code",
   "execution_count": null,
   "metadata": {},
   "outputs": [],
   "source": [
    "p*d"
   ]
  },
  {
   "cell_type": "code",
   "execution_count": null,
   "metadata": {},
   "outputs": [],
   "source": [
    "x = np.array([13.655136108398438, 16.40733528137207, 18.72626495361328, 19.614147186279297, 19.742990493774414, 19.676668167114258, 19.632984161376953])"
   ]
  },
  {
   "cell_type": "code",
   "execution_count": null,
   "metadata": {},
   "outputs": [],
   "source": [
    "x[np.logical_not(np.isnan(x))]"
   ]
  },
  {
   "cell_type": "code",
   "execution_count": null,
   "metadata": {},
   "outputs": [],
   "source": []
  }
 ],
 "metadata": {
  "kernelspec": {
   "display_name": "autoeq",
   "language": "python",
   "name": "autoeq"
  },
  "language_info": {
   "codemirror_mode": {
    "name": "ipython",
    "version": 3
   },
   "file_extension": ".py",
   "mimetype": "text/x-python",
   "name": "python",
   "nbconvert_exporter": "python",
   "pygments_lexer": "ipython3",
   "version": "3.8.6"
  }
 },
 "nbformat": 4,
 "nbformat_minor": 4
}
